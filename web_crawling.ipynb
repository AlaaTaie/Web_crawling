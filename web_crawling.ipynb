{
 "cells": [
  {
   "cell_type": "code",
   "execution_count": 1,
   "id": "a6524936",
   "metadata": {},
   "outputs": [],
   "source": [
    "import csv\n",
    "import requests\n",
    "from bs4 import BeautifulSoup"
   ]
  },
  {
   "cell_type": "code",
   "execution_count": null,
   "id": "9504512c",
   "metadata": {},
   "outputs": [],
   "source": [
    "scraped_data = []\n",
    "\n",
    "for i in range(1, 504):\n",
    "    base_url = \"https://eg.hatla2ee.com/en/car/page/\" + str(i)\n",
    "    headers = {'User-Agent': 'Mozilla/5.0 (Windows NT 11.0; Win64; x64) AppleWebKit/537.36 (KHTML, like Gecko) Chrome/112.0.5615.139 Safari/537.36'}\n",
    "    r = requests.get(base_url, headers=headers)\n",
    "    soup = BeautifulSoup(r.text, 'html.parser')\n",
    "    products = soup.find_all('div', {'class': 'newCarListUnit_contain'})\n",
    "\n",
    "    page = str(i)\n",
    "    for product in products:\n",
    "        price = product.find('div', {'class': 'main_price'}).text\n",
    "        name = product.find('div', {'class': 'newCarListUnit_header'}).text\n",
    "        color = product.find('span', {'class': 'newCarListUnit_metaTag mob_hidden'}).text\n",
    "        company_name = product.find('span', {'class': 'newCarListUnit_metaLink'}).text\n",
    "        img = product.find('img', {'class': 'lazy'})['data-original']\n",
    "\n",
    "        scraped_data.append([page, price, name, color, company_name, img])\n",
    "\n",
    "filename = 'car_data.csv'\n",
    "headers = ['Page', 'Price', 'Name', 'Color', 'Company Name', 'Image URL']\n",
    "\n",
    "with open(filename, 'w', newline='', encoding='utf-8') as file:\n",
    "    writer = csv.writer(file)\n",
    "    writer.writerow(headers)\n",
    "    writer.writerows(scraped_data)\n",
    "\n",
    "print(f'Data saved to {filename}.')"
   ]
  }
 ],
 "metadata": {
  "kernelspec": {
   "display_name": "Python 3 (ipykernel)",
   "language": "python",
   "name": "python3"
  },
  "language_info": {
   "codemirror_mode": {
    "name": "ipython",
    "version": 3
   },
   "file_extension": ".py",
   "mimetype": "text/x-python",
   "name": "python",
   "nbconvert_exporter": "python",
   "pygments_lexer": "ipython3",
   "version": "3.9.13"
  }
 },
 "nbformat": 4,
 "nbformat_minor": 5
}
